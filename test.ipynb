{
 "cells": [
  {
   "cell_type": "code",
   "execution_count": 28,
   "metadata": {
    "collapsed": true,
    "ExecuteTime": {
     "end_time": "2024-12-07T09:08:12.698040500Z",
     "start_time": "2024-12-07T09:08:12.693688500Z"
    }
   },
   "outputs": [],
   "source": [
    "import os\n",
    "\n",
    "import torch\n",
    "from torch.utils.data import DataLoader\n",
    "import torch.nn as nn\n",
    "import torch.nn.functional as F\n",
    "from utils.preprocessing import TextProcessor, TokenizeText, TextDataset\n",
    "from utils.model import GPTLanguageModel"
   ]
  },
  {
   "cell_type": "code",
   "execution_count": 29,
   "outputs": [],
   "source": [
    "path_to_txt_files = \"data/raw_files\"\n",
    "corpus_file = \"data/preprocessed/corpus.txt\"\n",
    "tokenizer_save_path = \"artifacts/custom_tokenizer\"\n",
    "\n",
    "# Reduced hyperparameters to prevent OOM\n",
    "batch_size = 32  # Reduced from 64\n",
    "block_size = 128  # Reduced from 256\n",
    "n_embd = 256  # Reduced from 384\n",
    "n_head = 4  # Reduced from 6\n",
    "n_layer = 4  # Reduced from 6\n",
    "dropout = 0.1  # Slightly reduced\n",
    "learning_rate = 1e-4  # Slightly lower\n",
    "max_iters = 3000  # Reduced iterations\n",
    "eval_interval = 300  # Adjusted\n",
    "eval_iters = 100  # Reduced"
   ],
   "metadata": {
    "collapsed": false,
    "ExecuteTime": {
     "end_time": "2024-12-07T09:08:12.941159600Z",
     "start_time": "2024-12-07T09:08:12.936699500Z"
    }
   }
  },
  {
   "cell_type": "code",
   "execution_count": 30,
   "outputs": [
    {
     "name": "stdout",
     "output_type": "stream",
     "text": [
      "Using device: cuda\n",
      "Corpus saved to data/preprocessed/corpus.txt\n",
      "Tokenizer trained and saved to artifacts/custom_tokenizer\n"
     ]
    }
   ],
   "source": [
    "device = torch.device('cuda' if torch.cuda.is_available() else 'cpu')\n",
    "print(f\"Using device: {device}\")\n",
    "\n",
    "# Preprocessing and Tokenization\n",
    "processor = TextProcessor(path_to_txt_files)\n",
    "processor.create_corpus(corpus_file)\n",
    "\n",
    "tokenizer_obj = TokenizeText(corpus_file, tokenizer_save_path)"
   ],
   "metadata": {
    "collapsed": false,
    "ExecuteTime": {
     "end_time": "2024-12-07T09:08:14.065922700Z",
     "start_time": "2024-12-07T09:08:13.570322200Z"
    }
   }
  },
  {
   "cell_type": "code",
   "execution_count": 31,
   "outputs": [],
   "source": [
    "train_ds = TextDataset(tokenizer_obj, corpus_file, block_size, random=False, split = \"train\")\n",
    "val_ds = TextDataset(tokenizer_obj, corpus_file, block_size, random=False, split=\"val\" )"
   ],
   "metadata": {
    "collapsed": false,
    "ExecuteTime": {
     "end_time": "2024-12-07T09:08:16.839184100Z",
     "start_time": "2024-12-07T09:08:15.688632600Z"
    }
   }
  },
  {
   "cell_type": "code",
   "execution_count": 32,
   "outputs": [],
   "source": [
    "train_dl = DataLoader(dataset=train_ds,batch_size=batch_size)\n",
    "val_dl = DataLoader(dataset=val_ds, batch_size=batch_size)"
   ],
   "metadata": {
    "collapsed": false,
    "ExecuteTime": {
     "end_time": "2024-12-07T09:08:17.576125300Z",
     "start_time": "2024-12-07T09:08:17.518776600Z"
    }
   }
  },
  {
   "cell_type": "code",
   "execution_count": 32,
   "outputs": [],
   "source": [],
   "metadata": {
    "collapsed": false,
    "ExecuteTime": {
     "end_time": "2024-12-07T09:08:18.056461900Z",
     "start_time": "2024-12-07T09:08:18.049331Z"
    }
   }
  },
  {
   "cell_type": "code",
   "execution_count": 33,
   "outputs": [],
   "source": [
    "model = GPTLanguageModel(\n",
    "        vocab_size=tokenizer_obj.tokenizer.vocab_size,\n",
    "        n_embd=n_embd,\n",
    "        block_size=block_size,\n",
    "        n_head=n_head,\n",
    "        n_layer=n_layer,\n",
    "        dropout=dropout\n",
    "    ).to(device)"
   ],
   "metadata": {
    "collapsed": false,
    "ExecuteTime": {
     "end_time": "2024-12-07T09:08:18.550016200Z",
     "start_time": "2024-12-07T09:08:18.384793Z"
    }
   }
  },
  {
   "cell_type": "code",
   "execution_count": 34,
   "outputs": [
    {
     "name": "stdout",
     "output_type": "stream",
     "text": [
      "8.86 M parameters\n"
     ]
    }
   ],
   "source": [
    "print(f'{sum(p.numel() for p in model.parameters())/1e6:.2f} M parameters')"
   ],
   "metadata": {
    "collapsed": false,
    "ExecuteTime": {
     "end_time": "2024-12-07T09:08:19.140002300Z",
     "start_time": "2024-12-07T09:08:19.135996800Z"
    }
   }
  },
  {
   "cell_type": "code",
   "execution_count": 34,
   "outputs": [],
   "source": [],
   "metadata": {
    "collapsed": false,
    "ExecuteTime": {
     "end_time": "2024-12-07T09:08:19.769903300Z",
     "start_time": "2024-12-07T09:08:19.761391600Z"
    }
   }
  },
  {
   "cell_type": "code",
   "execution_count": 35,
   "outputs": [
    {
     "name": "stdout",
     "output_type": "stream",
     "text": [
      "torch.Size([32, 128]) torch.Size([32, 128])\n"
     ]
    }
   ],
   "source": [
    "for a, b in train_dl:\n",
    "    print(a.shape,b.shape)\n",
    "    break"
   ],
   "metadata": {
    "collapsed": false,
    "ExecuteTime": {
     "end_time": "2024-12-07T09:08:20.109455900Z",
     "start_time": "2024-12-07T09:08:20.076629500Z"
    }
   }
  },
  {
   "cell_type": "code",
   "execution_count": 36,
   "outputs": [],
   "source": [
    "from utils.torchtrainer.trainer import Trainer"
   ],
   "metadata": {
    "collapsed": false,
    "ExecuteTime": {
     "end_time": "2024-12-07T09:08:20.874816Z",
     "start_time": "2024-12-07T09:08:20.872808Z"
    }
   }
  },
  {
   "cell_type": "code",
   "execution_count": 37,
   "outputs": [],
   "source": [
    "class ModifiedCrossEntropyLoss(nn.Module):\n",
    "    def __init__(self):\n",
    "        super().__init__()\n",
    "    def forward(self, logits, targets):\n",
    "        B, T, C = logits.shape\n",
    "        loss = F.cross_entropy(logits.view(B * T, C), targets.view(B * T))\n",
    "        return loss\n",
    "loss_fn = ModifiedCrossEntropyLoss()\n",
    "loss_fn = loss_fn.to(device)"
   ],
   "metadata": {
    "collapsed": false,
    "ExecuteTime": {
     "end_time": "2024-12-07T09:08:22.120293300Z",
     "start_time": "2024-12-07T09:08:22.111327300Z"
    }
   }
  },
  {
   "cell_type": "code",
   "execution_count": 38,
   "outputs": [],
   "source": [
    "model = model.to(device)\n",
    "optimizer = torch.optim.AdamW(model.parameters(), lr=learning_rate)"
   ],
   "metadata": {
    "collapsed": false,
    "ExecuteTime": {
     "end_time": "2024-12-07T09:08:22.867183500Z",
     "start_time": "2024-12-07T09:08:22.845839300Z"
    }
   }
  },
  {
   "cell_type": "code",
   "execution_count": 39,
   "outputs": [
    {
     "data": {
      "text/plain": "device(type='cuda')"
     },
     "execution_count": 39,
     "metadata": {},
     "output_type": "execute_result"
    }
   ],
   "source": [
    "device"
   ],
   "metadata": {
    "collapsed": false,
    "ExecuteTime": {
     "end_time": "2024-12-07T09:08:23.364555Z",
     "start_time": "2024-12-07T09:08:23.358187400Z"
    }
   }
  },
  {
   "cell_type": "code",
   "execution_count": 40,
   "outputs": [],
   "source": [
    "from utils.torchtrainer.callbacks import IntraEpochReport0, EarlyStopping0\n",
    "ier = IntraEpochReport0(10)\n",
    "# es = EarlyStopping0(basis=\"val_loss\")"
   ],
   "metadata": {
    "collapsed": false,
    "ExecuteTime": {
     "end_time": "2024-12-07T09:08:25.268014500Z",
     "start_time": "2024-12-07T09:08:25.266503400Z"
    }
   }
  },
  {
   "cell_type": "code",
   "execution_count": 41,
   "outputs": [],
   "source": [
    "trainer = Trainer( model,\n",
    "                 epochs=2,\n",
    "                 criterion=loss_fn,\n",
    "                 input_shape=(32,128),\n",
    "                 output_shape=(32,128,11057),\n",
    "                 optimizer=optimizer,\n",
    "                 callbacks = [ier],\n",
    "                 display_time_elapsed=True,\n",
    "                 metrics= [],\n",
    "                 device = device)"
   ],
   "metadata": {
    "collapsed": false,
    "ExecuteTime": {
     "end_time": "2024-12-07T09:08:25.835719700Z",
     "start_time": "2024-12-07T09:08:25.815998700Z"
    }
   }
  },
  {
   "cell_type": "code",
   "execution_count": 48,
   "outputs": [
    {
     "data": {
      "text/plain": "0.0001"
     },
     "execution_count": 48,
     "metadata": {},
     "output_type": "execute_result"
    }
   ],
   "source": [
    "1e-4"
   ],
   "metadata": {
    "collapsed": false,
    "ExecuteTime": {
     "end_time": "2024-12-07T10:10:33.536254700Z",
     "start_time": "2024-12-07T10:10:33.527401900Z"
    }
   }
  },
  {
   "cell_type": "code",
   "execution_count": 42,
   "outputs": [
    {
     "name": "stderr",
     "output_type": "stream",
     "text": [
      "EPOCH 1: : 759it [00:44, 17.46it/s]"
     ]
    },
    {
     "name": "stdout",
     "output_type": "stream",
     "text": [
      " E-1 batch 756 loss: 6.39559\n"
     ]
    },
    {
     "name": "stderr",
     "output_type": "stream",
     "text": [
      "EPOCH 1: : 1515it [01:28, 17.08it/s]"
     ]
    },
    {
     "name": "stdout",
     "output_type": "stream",
     "text": [
      " E-1 batch 1512 loss: 6.10937\n"
     ]
    },
    {
     "name": "stderr",
     "output_type": "stream",
     "text": [
      "EPOCH 1: : 2271it [02:13, 16.84it/s]"
     ]
    },
    {
     "name": "stdout",
     "output_type": "stream",
     "text": [
      " E-1 batch 2268 loss: 5.93774\n"
     ]
    },
    {
     "name": "stderr",
     "output_type": "stream",
     "text": [
      "EPOCH 1: : 3027it [03:00, 16.15it/s]"
     ]
    },
    {
     "name": "stdout",
     "output_type": "stream",
     "text": [
      " E-1 batch 3024 loss: 5.89951\n"
     ]
    },
    {
     "name": "stderr",
     "output_type": "stream",
     "text": [
      "EPOCH 1: : 3783it [03:44, 16.69it/s]"
     ]
    },
    {
     "name": "stdout",
     "output_type": "stream",
     "text": [
      " E-1 batch 3780 loss: 5.84598\n"
     ]
    },
    {
     "name": "stderr",
     "output_type": "stream",
     "text": [
      "EPOCH 1: : 4539it [04:28, 16.96it/s]"
     ]
    },
    {
     "name": "stdout",
     "output_type": "stream",
     "text": [
      " E-1 batch 4536 loss: 5.78299\n"
     ]
    },
    {
     "name": "stderr",
     "output_type": "stream",
     "text": [
      "EPOCH 1: : 5295it [05:13, 17.34it/s]"
     ]
    },
    {
     "name": "stdout",
     "output_type": "stream",
     "text": [
      " E-1 batch 5292 loss: 5.72593\n"
     ]
    },
    {
     "name": "stderr",
     "output_type": "stream",
     "text": [
      "EPOCH 1: : 6051it [05:59, 16.56it/s]"
     ]
    },
    {
     "name": "stdout",
     "output_type": "stream",
     "text": [
      " E-1 batch 6048 loss: 5.71736\n"
     ]
    },
    {
     "name": "stderr",
     "output_type": "stream",
     "text": [
      "EPOCH 1: : 6807it [06:44, 16.84it/s]"
     ]
    },
    {
     "name": "stdout",
     "output_type": "stream",
     "text": [
      " E-1 batch 6804 loss: 5.68515\n"
     ]
    },
    {
     "name": "stderr",
     "output_type": "stream",
     "text": [
      "EPOCH 1: : 7563it [07:29, 16.70it/s]"
     ]
    },
    {
     "name": "stdout",
     "output_type": "stream",
     "text": [
      " E-1 batch 7560 loss: 5.65123\n"
     ]
    },
    {
     "name": "stderr",
     "output_type": "stream",
     "text": [
      "EPOCH 1: : 7564it [07:29, 16.82it/s]\n"
     ]
    },
    {
     "name": "stdout",
     "output_type": "stream",
     "text": [
      "--> Metrics:   loss: 5.6510 ,val_loss: 5.6375\n",
      "Time elapsed: 467.1709702014923 s\n"
     ]
    },
    {
     "name": "stderr",
     "output_type": "stream",
     "text": [
      "EPOCH 2: : 758it [00:45, 16.35it/s]"
     ]
    },
    {
     "name": "stdout",
     "output_type": "stream",
     "text": [
      " E-2 batch 756 loss: 5.19351\n"
     ]
    },
    {
     "name": "stderr",
     "output_type": "stream",
     "text": [
      "EPOCH 2: : 1514it [01:32, 16.43it/s]"
     ]
    },
    {
     "name": "stdout",
     "output_type": "stream",
     "text": [
      " E-2 batch 1512 loss: 5.13212\n"
     ]
    },
    {
     "name": "stderr",
     "output_type": "stream",
     "text": [
      "EPOCH 2: : 2270it [02:16, 17.00it/s]"
     ]
    },
    {
     "name": "stdout",
     "output_type": "stream",
     "text": [
      " E-2 batch 2268 loss: 5.07668\n"
     ]
    },
    {
     "name": "stderr",
     "output_type": "stream",
     "text": [
      "EPOCH 2: : 3026it [03:01, 16.08it/s]"
     ]
    },
    {
     "name": "stdout",
     "output_type": "stream",
     "text": [
      " E-2 batch 3024 loss: 5.11665\n"
     ]
    },
    {
     "name": "stderr",
     "output_type": "stream",
     "text": [
      "EPOCH 2: : 3782it [03:45, 16.89it/s]"
     ]
    },
    {
     "name": "stdout",
     "output_type": "stream",
     "text": [
      " E-2 batch 3780 loss: 5.12133\n"
     ]
    },
    {
     "name": "stderr",
     "output_type": "stream",
     "text": [
      "EPOCH 2: : 4538it [04:30, 17.32it/s]"
     ]
    },
    {
     "name": "stdout",
     "output_type": "stream",
     "text": [
      " E-2 batch 4536 loss: 5.10328\n"
     ]
    },
    {
     "name": "stderr",
     "output_type": "stream",
     "text": [
      "EPOCH 2: : 5294it [05:15, 17.53it/s]"
     ]
    },
    {
     "name": "stdout",
     "output_type": "stream",
     "text": [
      " E-2 batch 5292 loss: 5.08359\n"
     ]
    },
    {
     "name": "stderr",
     "output_type": "stream",
     "text": [
      "EPOCH 2: : 6050it [05:59, 17.28it/s]"
     ]
    },
    {
     "name": "stdout",
     "output_type": "stream",
     "text": [
      " E-2 batch 6048 loss: 5.09708\n"
     ]
    },
    {
     "name": "stderr",
     "output_type": "stream",
     "text": [
      "EPOCH 2: : 6806it [06:43, 17.72it/s]"
     ]
    },
    {
     "name": "stdout",
     "output_type": "stream",
     "text": [
      " E-2 batch 6804 loss: 5.08601\n"
     ]
    },
    {
     "name": "stderr",
     "output_type": "stream",
     "text": [
      "EPOCH 2: : 7562it [07:28, 16.45it/s]"
     ]
    },
    {
     "name": "stdout",
     "output_type": "stream",
     "text": [
      " E-2 batch 7560 loss: 5.06769\n"
     ]
    },
    {
     "name": "stderr",
     "output_type": "stream",
     "text": [
      "EPOCH 2: : 7564it [07:28, 16.88it/s]\n"
     ]
    },
    {
     "name": "stdout",
     "output_type": "stream",
     "text": [
      "--> Metrics:   loss: 5.0676 ,val_loss: 5.6133\n",
      "Time elapsed: 932.8882060050964 s\n"
     ]
    }
   ],
   "source": [
    "history = trainer.fit(train_dl, val_dl)"
   ],
   "metadata": {
    "collapsed": false,
    "ExecuteTime": {
     "end_time": "2024-12-07T09:23:59.728099200Z",
     "start_time": "2024-12-07T09:08:26.813841700Z"
    }
   }
  },
  {
   "cell_type": "code",
   "execution_count": 43,
   "outputs": [
    {
     "data": {
      "text/plain": "tensor([[0]], device='cuda:0')"
     },
     "execution_count": 43,
     "metadata": {},
     "output_type": "execute_result"
    }
   ],
   "source": [
    "torch.zeros((1, 1), dtype=torch.long, device=device)"
   ],
   "metadata": {
    "collapsed": false,
    "ExecuteTime": {
     "end_time": "2024-12-07T09:24:33.997933100Z",
     "start_time": "2024-12-07T09:24:33.988603100Z"
    }
   }
  },
  {
   "cell_type": "code",
   "execution_count": 43,
   "outputs": [],
   "source": [],
   "metadata": {
    "collapsed": false,
    "ExecuteTime": {
     "end_time": "2024-12-07T09:24:34.441741800Z",
     "start_time": "2024-12-07T09:24:34.434736300Z"
    }
   }
  },
  {
   "cell_type": "code",
   "execution_count": 46,
   "outputs": [
    {
     "name": "stdout",
     "output_type": "stream",
     "text": [
      "Generated Text:\n",
      "My name was proof , If you last a gentleman . HORTENSIO swift wedded : Such wake , see he may do not be horse and For that liege , A gentleman shall manage break him be members ; And make a maid I know it gener y time , Sla venuto , If you have heard them over ps and miscarried lat m Sh likes here in him ; for so I do weigh , what I will tell him I tell me are as yet clouded as as then , are happily ; therefore not tarry , any object you do believe me ; And Do to her , do do done this vels for lamentation , and in them ? speak thing with greatness When all my brother , To hear thee for a girl , sir , sir , I saw for ear ; and I prize to who but of thee I met . GREMIO : I with beseech you , extra served Before a hot to my side May else , So may make more rough Gremio , I know you else to Canst shall be cruel son , as he , as free ly friends , Even to see thee in my will ne ' er be . Servant : hear me , York of me ? PETRUCHIO , him not share the repro De bble from any hand : I do charge the place . Why turn night , you may take her daughter , James ash , affairs , I say . LUCENTIO : can I have WARWICK : agabond more degree well , I would Bring hiss - sons to A house of Gremio , rust bastards , Not so rich , good liberal thing and have a car their transform than\n"
     ]
    }
   ],
   "source": [
    "# Generation\n",
    "context = tokenizer_obj.tokenize(\"My name\")['input_ids'].to(device=device)\n",
    "generated_text = tokenizer_obj.untokenize(model.generate(context, max_new_tokens=300)[0].tolist())\n",
    "print(\"Generated Text:\")\n",
    "print(generated_text)\n",
    "with open(\"output.txt\", \"w\") as file:\n",
    "    file.write(generated_text)"
   ],
   "metadata": {
    "collapsed": false,
    "ExecuteTime": {
     "end_time": "2024-12-07T09:35:12.602926300Z",
     "start_time": "2024-12-07T09:35:09.158294Z"
    }
   }
  },
  {
   "cell_type": "code",
   "execution_count": 2,
   "outputs": [],
   "source": [
    "import matplotlib.pyplot as plt\n",
    "import torch"
   ],
   "metadata": {
    "collapsed": false,
    "ExecuteTime": {
     "end_time": "2024-12-07T14:45:40.162050500Z",
     "start_time": "2024-12-07T14:45:37.687369200Z"
    }
   }
  },
  {
   "cell_type": "code",
   "execution_count": 3,
   "outputs": [],
   "source": [
    "history = {\n",
    "    'loss': torch.tensor([1, 2, 3]),\n",
    "    'val_loss': torch.tensor([4,7,6])\n",
    "}"
   ],
   "metadata": {
    "collapsed": false,
    "ExecuteTime": {
     "end_time": "2024-12-07T14:45:40.167233100Z",
     "start_time": "2024-12-07T14:45:40.164051900Z"
    }
   }
  },
  {
   "cell_type": "code",
   "execution_count": 4,
   "outputs": [],
   "source": [
    "c = history['loss'].tolist()"
   ],
   "metadata": {
    "collapsed": false,
    "ExecuteTime": {
     "end_time": "2024-12-07T14:45:40.345267400Z",
     "start_time": "2024-12-07T14:45:40.334469100Z"
    }
   }
  },
  {
   "cell_type": "code",
   "execution_count": 5,
   "outputs": [],
   "source": [
    "import seaborn as sns"
   ],
   "metadata": {
    "collapsed": false,
    "ExecuteTime": {
     "end_time": "2024-12-07T14:45:41.021894600Z",
     "start_time": "2024-12-07T14:45:41.018873200Z"
    }
   }
  },
  {
   "cell_type": "code",
   "execution_count": null,
   "outputs": [],
   "source": [
    "sns.lineplot(c)"
   ],
   "metadata": {
    "collapsed": false,
    "is_executing": true,
    "ExecuteTime": {
     "start_time": "2024-12-07T14:45:50.656938600Z"
    }
   }
  },
  {
   "cell_type": "code",
   "execution_count": null,
   "outputs": [
    {
     "data": {
      "text/plain": "[<matplotlib.lines.Line2D at 0x24a3d5a67b0>]"
     },
     "execution_count": 5,
     "metadata": {},
     "output_type": "execute_result"
    }
   ],
   "source": [
    "plt.plot([1,2,3])"
   ],
   "metadata": {
    "collapsed": false,
    "is_executing": true,
    "ExecuteTime": {
     "start_time": "2024-12-07T14:44:47.316383900Z"
    }
   }
  },
  {
   "cell_type": "code",
   "execution_count": null,
   "outputs": [],
   "source": [
    "plt.plot(history['loss'].tolist(), label='Training Loss')\n",
    "plt.plot(history['val_loss'].tolist(), label='Validation Loss')\n",
    "plt.xlabel('Epochs')\n",
    "plt.ylabel('Loss')\n",
    "plt.title('Loss vs. Epochs')\n",
    "plt.legend()\n",
    "plt.grid(True)\n",
    "plt.savefig('loss_plot.png', dpi=300, bbox_inches='tight')  # Save as PNG with high resolution\n",
    "plt.show()"
   ],
   "metadata": {
    "collapsed": false,
    "is_executing": true,
    "ExecuteTime": {
     "start_time": "2024-12-07T14:42:33.277705300Z"
    }
   }
  },
  {
   "cell_type": "code",
   "execution_count": null,
   "outputs": [],
   "source": [],
   "metadata": {
    "collapsed": false
   }
  }
 ],
 "metadata": {
  "kernelspec": {
   "display_name": "Python 3",
   "language": "python",
   "name": "python3"
  },
  "language_info": {
   "codemirror_mode": {
    "name": "ipython",
    "version": 2
   },
   "file_extension": ".py",
   "mimetype": "text/x-python",
   "name": "python",
   "nbconvert_exporter": "python",
   "pygments_lexer": "ipython2",
   "version": "2.7.6"
  }
 },
 "nbformat": 4,
 "nbformat_minor": 0
}
